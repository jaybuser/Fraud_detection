{
 "cells": [
  {
   "cell_type": "code",
   "execution_count": 1,
   "id": "ea90e8d1",
   "metadata": {},
   "outputs": [
    {
     "name": "stdout",
     "output_type": "stream",
     "text": [
      "adding all the related data processing code in this file\n"
     ]
    }
   ],
   "source": [
    "print(\"adding all the related data processing code in this file\")"
   ]
  },
  {
   "cell_type": "code",
   "execution_count": null,
   "id": "9a4716d8",
   "metadata": {},
   "outputs": [],
   "source": [
    "a=5\n",
    "b=10\n",
    "def sum(a,b) :\n",
    "    c=a+b\n",
    "    return a\n",
    "\n",
    "print()"
   ]
  }
 ],
 "metadata": {
  "kernelspec": {
   "display_name": "Python 3 (ipykernel)",
   "language": "python",
   "name": "python3"
  },
  "language_info": {
   "codemirror_mode": {
    "name": "ipython",
    "version": 3
   },
   "file_extension": ".py",
   "mimetype": "text/x-python",
   "name": "python",
   "nbconvert_exporter": "python",
   "pygments_lexer": "ipython3",
   "version": "3.10.9"
  }
 },
 "nbformat": 4,
 "nbformat_minor": 5
}
